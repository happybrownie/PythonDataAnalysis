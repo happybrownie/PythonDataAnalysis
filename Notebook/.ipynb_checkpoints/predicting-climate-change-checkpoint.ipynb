{
 "cells": [
  {
   "cell_type": "markdown",
   "id": "cc2d40ee",
   "metadata": {
    "papermill": {
     "duration": 0.009231,
     "end_time": "2023-08-02T19:02:09.088273",
     "exception": false,
     "start_time": "2023-08-02T19:02:09.079042",
     "status": "completed"
    },
    "tags": []
   },
   "source": [
    "# **使用 Python 检查气候变化数据**"
   ]
  },
  {
   "cell_type": "markdown",
   "id": "455a71f7",
   "metadata": {
    "papermill": {
     "duration": 0.008468,
     "end_time": "2023-08-02T19:02:09.105757",
     "exception": false,
     "start_time": "2023-08-02T19:02:09.097289",
     "status": "completed"
    },
    "tags": []
   },
   "source": [
    "大家都知道，气候变化近来已成为一个巨大的话题。 有些人说这没有发生，而另一些人则说这是对地球生命的最大威胁。 我将检查 1700 年以来的温度数据，看看是否能在数据集中找到任何相关性。"
   ]
  },
  {
   "cell_type": "code",
   "execution_count": null,
   "id": "a4a40288",
   "metadata": {
    "_cell_guid": "b1076dfc-b9ad-4769-8c92-a6c4dae69d19",
    "_uuid": "8f2839f25d086af736a60e9eeb907d3b93b6e0e5",
    "papermill": {
     "duration": 0.022852,
     "end_time": "2023-08-02T19:02:09.137415",
     "exception": false,
     "start_time": "2023-08-02T19:02:09.114563",
     "status": "completed"
    },
    "tags": []
   },
   "outputs": [],
   "source": [
    "#导入Python数据分析库Pandas，并将其命名为pd。\n",
    "#导入pandas库，用于数据处理和分析。\n",
    "import pandas as pd"
   ]
  },
  {
   "cell_type": "markdown",
   "id": "0686e1b4",
   "metadata": {
    "papermill": {
     "duration": 0.008544,
     "end_time": "2023-08-02T19:02:09.154854",
     "exception": false,
     "start_time": "2023-08-02T19:02:09.146310",
     "status": "completed"
    },
    "tags": []
   },
   "source": [
    "# **将数据集加载到dataframe**"
   ]
  },
  {
   "cell_type": "code",
   "execution_count": null,
   "id": "3ebdd0ff",
   "metadata": {
    "papermill": {
     "duration": 0.751761,
     "end_time": "2023-08-02T19:02:09.915541",
     "exception": false,
     "start_time": "2023-08-02T19:02:09.163780",
     "status": "completed"
    },
    "tags": []
   },
   "outputs": [],
   "source": [
    "# 从CSV文件加载温度数据到DataFrame\n",
    "temps_df = pd.read_csv('S:\\GIT\\PythonDataAnalysis\\地表温度可视化数据集\\GlobalLandTemperaturesByCountry.csv')"
   ]
  },
  {
   "cell_type": "markdown",
   "id": "e4bdbf93",
   "metadata": {
    "papermill": {
     "duration": 0.008834,
     "end_time": "2023-08-02T19:02:09.933457",
     "exception": false,
     "start_time": "2023-08-02T19:02:09.924623",
     "status": "completed"
    },
    "tags": []
   },
   "source": [
    "**检查dataframe**"
   ]
  },
  {
   "cell_type": "code",
   "execution_count": null,
   "id": "64e03ebf",
   "metadata": {
    "papermill": {
     "duration": 0.020131,
     "end_time": "2023-08-02T19:02:09.962643",
     "exception": false,
     "start_time": "2023-08-02T19:02:09.942512",
     "status": "completed"
    },
    "tags": []
   },
   "outputs": [],
   "source": [
    "# 查看DataFrame的形状（行数和列数）\n",
    "temps_df.shape"
   ]
  },
  {
   "cell_type": "code",
   "execution_count": null,
   "id": "d0751571-7733-4003-a695-f23d686f720f",
   "metadata": {
    "papermill": {
     "duration": 0.035861,
     "end_time": "2023-08-02T19:02:10.007672",
     "exception": false,
     "start_time": "2023-08-02T19:02:09.971811",
     "status": "completed"
    },
    "tags": []
   },
   "outputs": [],
   "source": [
    "# 清理数据，删除缺失值\n",
    "temps_df.head()"
   ]
  },
  {
   "cell_type": "markdown",
   "id": "460f98cd",
   "metadata": {
    "papermill": {
     "duration": 0.009391,
     "end_time": "2023-08-02T19:02:10.027304",
     "exception": false,
     "start_time": "2023-08-02T19:02:10.017913",
     "status": "completed"
    },
    "tags": []
   },
   "source": [
    "# **描述数据**"
   ]
  },
  {
   "cell_type": "markdown",
   "id": "02c450b1",
   "metadata": {
    "papermill": {
     "duration": 0.009105,
     "end_time": "2023-08-02T19:02:10.046158",
     "exception": false,
     "start_time": "2023-08-02T19:02:10.037053",
     "status": "completed"
    },
    "tags": []
   },
   "source": [
    "This gives us a rough overview of the average temperature over the time period the data spans"
   ]
  },
  {
   "cell_type": "code",
   "execution_count": null,
   "id": "ba170ef0",
   "metadata": {
    "papermill": {
     "duration": 0.063077,
     "end_time": "2023-08-02T19:02:10.118769",
     "exception": false,
     "start_time": "2023-08-02T19:02:10.055692",
     "status": "completed"
    },
    "tags": []
   },
   "outputs": [],
   "source": [
    "# 数据可视化，绘制温度趋势图\n",
    "temps_df.AverageTemperature.describe()"
   ]
  },
  {
   "cell_type": "markdown",
   "id": "5a9154c4",
   "metadata": {
    "papermill": {
     "duration": 0.00915,
     "end_time": "2023-08-02T19:02:10.137588",
     "exception": false,
     "start_time": "2023-08-02T19:02:10.128438",
     "status": "completed"
    },
    "tags": []
   },
   "source": [
    "# **检查缺失值**"
   ]
  },
  {
   "cell_type": "code",
   "execution_count": null,
   "id": "7990136d",
   "metadata": {
    "papermill": {
     "duration": 0.033133,
     "end_time": "2023-08-02T19:02:10.180116",
     "exception": false,
     "start_time": "2023-08-02T19:02:10.146983",
     "status": "completed"
    },
    "tags": []
   },
   "outputs": [],
   "source": [
    "# 进行数据分析，计算统计指标  # 删除缺失值\n",
    "temps_df[pd.isnull(temps_df.AverageTemperature)]"
   ]
  },
  {
   "cell_type": "markdown",
   "id": "d9b14618",
   "metadata": {
    "papermill": {
     "duration": 0.00932,
     "end_time": "2023-08-02T19:02:10.199222",
     "exception": false,
     "start_time": "2023-08-02T19:02:10.189902",
     "status": "completed"
    },
    "tags": []
   },
   "source": [
    "# **删除任何丢失的数据以清理数据集**"
   ]
  },
  {
   "cell_type": "code",
   "execution_count": null,
   "id": "27d50f56",
   "metadata": {
    "papermill": {
     "duration": 0.215463,
     "end_time": "2023-08-02T19:02:10.424364",
     "exception": false,
     "start_time": "2023-08-02T19:02:10.208901",
     "status": "completed"
    },
    "tags": []
   },
   "outputs": [],
   "source": [
    "#可视化温度趋势：\n",
    "\n",
    "# 删除缺失值\n",
    "temps_clean_df = temps_df.dropna()"
   ]
  },
  {
   "cell_type": "code",
   "execution_count": null,
   "id": "be01d5eb",
   "metadata": {
    "papermill": {
     "duration": 0.024761,
     "end_time": "2023-08-02T19:02:10.459028",
     "exception": false,
     "start_time": "2023-08-02T19:02:10.434267",
     "status": "completed"
    },
    "tags": []
   },
   "outputs": [],
   "source": [
    "# 保存处理后的数据到新的CSV文件\n",
    "temps_clean_df[pd.isnull(temps_clean_df.AverageTemperature)]"
   ]
  },
  {
   "cell_type": "markdown",
   "id": "6999652e",
   "metadata": {
    "papermill": {
     "duration": 0.009403,
     "end_time": "2023-08-02T19:02:10.478193",
     "exception": false,
     "start_time": "2023-08-02T19:02:10.468790",
     "status": "completed"
    },
    "tags": []
   },
   "source": [
    "# **使用 Seaborn 绘制数据**"
   ]
  },
  {
   "cell_type": "code",
   "execution_count": null,
   "id": "fdf2f8ff",
   "metadata": {
    "papermill": {
     "duration": 1.519986,
     "end_time": "2023-08-02T19:02:12.007913",
     "exception": false,
     "start_time": "2023-08-02T19:02:10.487927",
     "status": "completed"
    },
    "tags": []
   },
   "outputs": [],
   "source": [
    "# 其他数据处理和分析步骤\n",
    "pd.plotting.register_matplotlib_converters()\n",
    "import matplotlib.pyplot as plt\n",
    "%matplotlib inline\n",
    "import seaborn as sns"
   ]
  },
  {
   "cell_type": "code",
   "execution_count": null,
   "id": "9bf9a11f",
   "metadata": {
    "papermill": {
     "duration": 81.737651,
     "end_time": "2023-08-02T19:03:33.755896",
     "exception": false,
     "start_time": "2023-08-02T19:02:12.018245",
     "status": "completed"
    },
    "tags": []
   },
   "outputs": [],
   "source": [
    "#设置图像大小为 600x600 像素\n",
    "plt.figure(figsize=(60,60))\n",
    "#绘制包含所有数据的线图\n",
    "sns.lineplot(data=temps_clean_df)"
   ]
  },
  {
   "cell_type": "markdown",
   "id": "b83a5594",
   "metadata": {
    "papermill": {
     "duration": 0.020868,
     "end_time": "2023-08-02T19:03:33.798189",
     "exception": false,
     "start_time": "2023-08-02T19:03:33.777321",
     "status": "completed"
    },
    "tags": []
   },
   "source": [
    "# **导入工具来制作可以根据数据预测未来温度的模型**"
   ]
  },
  {
   "cell_type": "code",
   "execution_count": null,
   "id": "5ca8f6f5",
   "metadata": {
    "papermill": {
     "duration": 0.445008,
     "end_time": "2023-08-02T19:03:34.264570",
     "exception": false,
     "start_time": "2023-08-02T19:03:33.819562",
     "status": "completed"
    },
    "tags": []
   },
   "outputs": [],
   "source": [
    "import numpy as np\n",
    "from sklearn.model_selection import train_test_split\n",
    "from sklearn.linear_model import LinearRegression"
   ]
  },
  {
   "cell_type": "code",
   "execution_count": null,
   "id": "a43163de",
   "metadata": {
    "papermill": {
     "duration": 0.201528,
     "end_time": "2023-08-02T19:03:34.487714",
     "exception": false,
     "start_time": "2023-08-02T19:03:34.286186",
     "status": "completed"
    },
    "tags": []
   },
   "outputs": [],
   "source": [
    "#复制 temps_clean_df 数据框，以免修改原数据\n",
    "temps_clean_df = temps_clean_df.copy()\n",
    "#将日期列转换为日期时间格式\n",
    "temps_clean_df['dt'] = pd.to_datetime(temps_clean_df['dt'])\n",
    "#提取年份信息\n",
    "temps_clean_df['Year'] = temps_clean_df['dt'].dt.year"
   ]
  },
  {
   "cell_type": "markdown",
   "id": "a4f78fb7",
   "metadata": {
    "papermill": {
     "duration": 0.021133,
     "end_time": "2023-08-02T19:03:34.530525",
     "exception": false,
     "start_time": "2023-08-02T19:03:34.509392",
     "status": "completed"
    },
    "tags": []
   },
   "source": [
    "# **分割dataframe**"
   ]
  },
  {
   "cell_type": "code",
   "execution_count": null,
   "id": "2fab00db",
   "metadata": {
    "papermill": {
     "duration": 0.089304,
     "end_time": "2023-08-02T19:03:34.641400",
     "exception": false,
     "start_time": "2023-08-02T19:03:34.552096",
     "status": "completed"
    },
    "tags": []
   },
   "outputs": [],
   "source": [
    "#选择年\n",
    "X = temps_clean_df[['Year']]\n",
    "# 选择目标变量\n",
    "y = temps_clean_df['AverageTemperature']\n",
    "# 拆分训练集和测试集\n",
    "X_train, X_test, y_train, y_test = train_test_split(X, y, test_size=0.2, random_state=42)"
   ]
  },
  {
   "cell_type": "markdown",
   "id": "63d24ac4",
   "metadata": {
    "papermill": {
     "duration": 0.020919,
     "end_time": "2023-08-02T19:03:34.684918",
     "exception": false,
     "start_time": "2023-08-02T19:03:34.663999",
     "status": "completed"
    },
    "tags": []
   },
   "source": [
    "# **添加模型/线性回归**"
   ]
  },
  {
   "cell_type": "code",
   "execution_count": null,
   "id": "1800a9b6",
   "metadata": {
    "papermill": {
     "duration": 0.076363,
     "end_time": "2023-08-02T19:03:34.782754",
     "exception": false,
     "start_time": "2023-08-02T19:03:34.706391",
     "status": "completed"
    },
    "tags": []
   },
   "outputs": [],
   "source": [
    "# 创建线性回归模型\n",
    "model = LinearRegression()\n",
    "# 训练模型\n",
    "model.fit(X_train, y_train)\n"
   ]
  },
  {
   "cell_type": "markdown",
   "id": "c1c5776a",
   "metadata": {
    "papermill": {
     "duration": 0.022508,
     "end_time": "2023-08-02T19:03:34.828814",
     "exception": false,
     "start_time": "2023-08-02T19:03:34.806306",
     "status": "completed"
    },
    "tags": []
   },
   "source": [
    "# **预测未来气温**"
   ]
  },
  {
   "cell_type": "code",
   "execution_count": null,
   "id": "b8bcfb8e",
   "metadata": {
    "papermill": {
     "duration": 0.03575,
     "end_time": "2023-08-02T19:03:34.887172",
     "exception": false,
     "start_time": "2023-08-02T19:03:34.851422",
     "status": "completed"
    },
    "tags": []
   },
   "outputs": [],
   "source": [
    "# 预测未来50年、100年、200年和500年的温度\n",
    "# 获取数据中最大年份\n",
    "last_year = temps_clean_df['Year'].max()\n",
    "# 定义要预测的年份\n",
    "years_ahead = [last_year + 50, last_year + 100, last_year + 200, last_year + 500]\n",
    "# 创建未来年份数据框\n",
    "future_years = pd.DataFrame({'Year': years_ahead})\n",
    " # 预测未来温度\n",
    "predicted_temperatures = model.predict(future_years)"
   ]
  },
  {
   "cell_type": "markdown",
   "id": "c9f48f2d",
   "metadata": {
    "papermill": {
     "duration": 0.022385,
     "end_time": "2023-08-02T19:03:34.932088",
     "exception": false,
     "start_time": "2023-08-02T19:03:34.909703",
     "status": "completed"
    },
    "tags": []
   },
   "source": [
    "# **可视化数据**"
   ]
  },
  {
   "cell_type": "code",
   "execution_count": null,
   "id": "2703cb6c",
   "metadata": {
    "papermill": {
     "duration": 8.70799,
     "end_time": "2023-08-02T19:03:43.662659",
     "exception": false,
     "start_time": "2023-08-02T19:03:34.954669",
     "status": "completed"
    },
    "tags": []
   },
   "outputs": [],
   "source": [
    "# 绘制观测数据和预测结果\n",
    "plt.figure(figsize=(15, 6))\n",
    "plt.scatter(temps_clean_df['Year'], temps_clean_df['AverageTemperature'], label='Observed Data')\n",
    "plt.plot(future_years['Year'], predicted_temperatures, 'ro-', label='Predicted Temperatures')\n",
    "plt.xlabel('Year')\n",
    "plt.ylabel('Average Temperature')\n",
    "plt.title('Simulation of Global Warming Effects')\n",
    "plt.legend()\n",
    "plt.grid(True)\n",
    "plt.show()"
   ]
  },
  {
   "cell_type": "markdown",
   "id": "31e10859",
   "metadata": {
    "papermill": {
     "duration": 0.023667,
     "end_time": "2023-08-02T19:03:43.709548",
     "exception": false,
     "start_time": "2023-08-02T19:03:43.685881",
     "status": "completed"
    },
    "tags": []
   },
   "source": [
    "# **评估模型的准确性**"
   ]
  },
  {
   "cell_type": "code",
   "execution_count": null,
   "id": "0d91cfe1",
   "metadata": {
    "papermill": {
     "duration": 0.031384,
     "end_time": "2023-08-02T19:03:43.764078",
     "exception": false,
     "start_time": "2023-08-02T19:03:43.732694",
     "status": "completed"
    },
    "tags": []
   },
   "outputs": [],
   "source": [
    "from sklearn.metrics import mean_squared_error, r2_score, mean_absolute_error"
   ]
  },
  {
   "cell_type": "code",
   "execution_count": null,
   "id": "8abe7ef1",
   "metadata": {
    "papermill": {
     "duration": 0.039348,
     "end_time": "2023-08-02T19:03:43.826679",
     "exception": false,
     "start_time": "2023-08-02T19:03:43.787331",
     "status": "completed"
    },
    "tags": []
   },
   "outputs": [],
   "source": [
    "# 评估模型在测试集上的表现\n",
    "y_pred = model.predict(X_test) # 预测测试集的温度\n",
    "\n",
    "mse = mean_squared_error(y_test, y_pred) # 计算均方误差\n",
    "rmse = np.sqrt(mse) # 计算均方根误差\n",
    "mae = mean_absolute_error(y_test, y_pred)# 计算平均绝对误差\n",
    "r2 = r2_score(y_test, y_pred)# 计算R方\n",
    "\n",
    "print(\"Mean Squared Error:\", mse)#print(\"均方误差:\", mse)\n",
    "print(\"Root Mean Squared Error:\", rmse)#print(\"均方根误差:\", rmse)\n",
    "print(\"Mean Absolute Error:\", mae)#print(\"平均绝对误差:\", mae)\n",
    "print(\"R-squared score:\", r2)#print(\"R方:\", r2)"
   ]
  },
  {
   "cell_type": "markdown",
   "id": "3a9c90ff",
   "metadata": {
    "papermill": {
     "duration": 0.023506,
     "end_time": "2023-08-02T19:03:43.873987",
     "exception": false,
     "start_time": "2023-08-02T19:03:43.850481",
     "status": "completed"
    },
    "tags": []
   },
   "source": [
    "# **可视化准确性**"
   ]
  },
  {
   "cell_type": "code",
   "execution_count": null,
   "id": "f7caee0f",
   "metadata": {
    "papermill": {
     "duration": 2.079651,
     "end_time": "2023-08-02T19:03:45.977579",
     "exception": false,
     "start_time": "2023-08-02T19:03:43.897928",
     "status": "completed"
    },
    "tags": []
   },
   "outputs": [],
   "source": [
    "plt.figure(figsize=(10, 6))\n",
    "sns.scatterplot(x=X_test['Year'], y=y_test, label='Actual Data')\n",
    "sns.lineplot(x=future_years['Year'], y=predicted_temperatures, color='red', label='Predicted Temperatures')\n",
    "plt.xlabel('Year')\n",
    "plt.ylabel('Average Temperature')\n",
    "plt.title('Simulation of Global Warming Effects')\n",
    "plt.legend()\n",
    "plt.grid(True)\n",
    "plt.show()"
   ]
  },
  {
   "cell_type": "markdown",
   "id": "048585a3",
   "metadata": {
    "papermill": {
     "duration": 0.027495,
     "end_time": "2023-08-02T19:03:46.033061",
     "exception": false,
     "start_time": "2023-08-02T19:03:46.005566",
     "status": "completed"
    },
    "tags": []
   },
   "source": [
    "# **使用 ElasticNet 评估/预测**"
   ]
  },
  {
   "cell_type": "code",
   "execution_count": null,
   "id": "9926bb8f",
   "metadata": {
    "papermill": {
     "duration": 0.035177,
     "end_time": "2023-08-02T19:03:46.094398",
     "exception": false,
     "start_time": "2023-08-02T19:03:46.059221",
     "status": "completed"
    },
    "tags": []
   },
   "outputs": [],
   "source": [
    "from sklearn.preprocessing import StandardScaler\n",
    "from sklearn.linear_model import ElasticNet\n",
    "from sklearn.model_selection import GridSearchCV"
   ]
  },
  {
   "cell_type": "code",
   "execution_count": null,
   "id": "24f4417a",
   "metadata": {
    "papermill": {
     "duration": 0.044804,
     "end_time": "2023-08-02T19:03:46.165343",
     "exception": false,
     "start_time": "2023-08-02T19:03:46.120539",
     "status": "completed"
    },
    "tags": []
   },
   "outputs": [],
   "source": [
    "# 数据标准化\n",
    "scaler = StandardScaler()\n",
    "X_train_scaled = scaler.fit_transform(X_train)\n",
    "X_test_scaled = scaler.transform(X_test)"
   ]
  },
  {
   "cell_type": "code",
   "execution_count": null,
   "id": "be06ab4b",
   "metadata": {
    "papermill": {
     "duration": 1.295743,
     "end_time": "2023-08-02T19:03:47.487503",
     "exception": false,
     "start_time": "2023-08-02T19:03:46.191760",
     "status": "completed"
    },
    "tags": []
   },
   "outputs": [],
   "source": [
    "# 超参数调优\n",
    "param_grid = {\n",
    "    'alpha': [0.87, 0.095, 0.0117],\n",
    "    'l1_ratio': [0.1, 0.5, 1.0]\n",
    "}\n",
    "\n",
    "grid_search = GridSearchCV(ElasticNet(max_iter=1000), param_grid, cv=5)\n",
    "grid_search.fit(X_train_scaled, y_train)\n",
    "\n",
    "best_alpha = grid_search.best_params_['alpha']\n",
    "best_l1_ratio = grid_search.best_params_['l1_ratio']\n",
    "\n",
    "print(\"Best alpha:\", best_alpha)\n",
    "print(\"Best l1_ratio:\", best_l1_ratio)"
   ]
  },
  {
   "cell_type": "code",
   "execution_count": null,
   "id": "d561668d",
   "metadata": {
    "papermill": {
     "duration": 0.074078,
     "end_time": "2023-08-02T19:03:47.608066",
     "exception": false,
     "start_time": "2023-08-02T19:03:47.533988",
     "status": "completed"
    },
    "tags": []
   },
   "outputs": [],
   "source": [
    "# 使用最佳超参数训练模型\n",
    "model = ElasticNet(alpha=best_alpha, l1_ratio=best_l1_ratio, max_iter=1000)\n",
    "model.fit(X_train_scaled, y_train)"
   ]
  },
  {
   "cell_type": "code",
   "execution_count": null,
   "id": "87ddcf0a",
   "metadata": {
    "papermill": {
     "duration": 0.067567,
     "end_time": "2023-08-02T19:03:47.721767",
     "exception": false,
     "start_time": "2023-08-02T19:03:47.654200",
     "status": "completed"
    },
    "tags": []
   },
   "outputs": [],
   "source": [
    "# 评估模型性能\n",
    "y_pred = model.predict(X_test_scaled)\n",
    "\n",
    "mse = mean_squared_error(y_test, y_pred)\n",
    "r2 = r2_score(y_test, y_pred)\n",
    "\n",
    "print(\"Mean Squared Error:\", mse)\n",
    "print(\"R-squared score:\", r2)"
   ]
  },
  {
   "cell_type": "code",
   "execution_count": null,
   "id": "84faa528",
   "metadata": {
    "papermill": {
     "duration": 0.038331,
     "end_time": "2023-08-02T19:03:47.787123",
     "exception": false,
     "start_time": "2023-08-02T19:03:47.748792",
     "status": "completed"
    },
    "tags": []
   },
   "outputs": [],
   "source": [
    "# 预测未来温度\n",
    "future_years = pd.DataFrame({'Year': np.arange(1750, 3000, 50)})\n",
    "future_years_scaled = scaler.transform(future_years)\n",
    "predicted_temperatures = model.predict(future_years_scaled)\n"
   ]
  },
  {
   "cell_type": "code",
   "execution_count": null,
   "id": "6705b966",
   "metadata": {
    "papermill": {
     "duration": 5.54534,
     "end_time": "2023-08-02T19:03:53.359472",
     "exception": false,
     "start_time": "2023-08-02T19:03:47.814132",
     "status": "completed"
    },
    "tags": []
   },
   "outputs": [],
   "source": [
    "# 可视化\n",
    "plt.figure(figsize=(15, 6))\n",
    "sns.scatterplot(x=X['Year'], y=y, label='Historical Data')\n",
    "sns.lineplot(x=future_years['Year'], y=predicted_temperatures, color='red', label='Predicted Temperatures (ElasticNet)')\n",
    "plt.xlabel('Year')\n",
    "plt.ylabel('Average Temperature')\n",
    "plt.title('Simulation of Global Warming Effects (ElasticNet)')\n",
    "plt.legend()\n",
    "plt.grid(True)\n",
    "plt.show()"
   ]
  },
  {
   "cell_type": "markdown",
   "id": "75027208",
   "metadata": {
    "papermill": {
     "duration": 0.030661,
     "end_time": "2023-08-02T19:03:53.423248",
     "exception": false,
     "start_time": "2023-08-02T19:03:53.392587",
     "status": "completed"
    },
    "tags": []
   },
   "source": [
    "# **结果**"
   ]
  },
  {
   "cell_type": "markdown",
   "id": "59e2c8d5",
   "metadata": {
    "papermill": {
     "duration": 0.030426,
     "end_time": "2023-08-02T19:03:53.484700",
     "exception": false,
     "start_time": "2023-08-02T19:03:53.454274",
     "status": "completed"
    },
    "tags": []
   },
   "source": [
    "根据预测，即使在大约 200 年内，我们也将达到极其危险的全球平均水平。 目前，全球平均气温约为 15 摄氏度（左右），200 年后，ML 模型预测我们可能会看到 +27.5 摄氏度（大约）的变化，500 年后，我们将处于 40 摄氏度左右。 全球平均摄氏温度.."
   ]
  },
  {
   "cell_type": "markdown",
   "id": "891c4b31",
   "metadata": {
    "papermill": {
     "duration": 0.030272,
     "end_time": "2023-08-02T19:03:53.545832",
     "exception": false,
     "start_time": "2023-08-02T19:03:53.515560",
     "status": "completed"
    },
    "tags": []
   },
   "source": [
    "# **此模拟的可能结果？**"
   ]
  },
  {
   "cell_type": "markdown",
   "id": "d8bea3cf",
   "metadata": {
    "papermill": {
     "duration": 0.030349,
     "end_time": "2023-08-02T19:03:53.607399",
     "exception": false,
     "start_time": "2023-08-02T19:03:53.577050",
     "status": "completed"
    },
    "tags": []
   },
   "source": [
    "人类健康：较高的气温可能导致与热有关的疾病和死亡。 热浪频率和强度的增加将对弱势群体构成重大风险，包括老年人、儿童和已有健康状况的人。\n",
    "\n",
    "生态系统破坏：许多生态系统和物种适应特定的温度范围。 气温突然急剧升高可能会破坏这些生态系统，导致物种灭绝、生物多样性丧失以及自然食物链失衡。\n",
    "\n",
    "农业和粮食安全：极端气温会对农业生产力产生负面影响。 农作物可能歉收，导致粮食短缺和价格飙升。 这反过来又可能加剧许多地区的饥饿和贫困。\n",
    "\n",
    "水资源：气温升高会导致蒸发增加，导致干旱并影响水的可用性。 这将进一步导致人类消费、农业和工业的水资源紧张。\n",
    "\n",
    "海平面上升：全球气温上升导致极地冰盖和冰川融化。 这将导致海平面大幅上升，威胁沿海地区，并使生活在低洼地区的数百万人流离失所。\n",
    "\n",
    "极端天气事件：大气中更多的热量可能会加剧极端天气事件，例如飓风、台风和强烈风暴。 这些事件可能会造成大范围的破坏和人员伤亡。\n",
    "\n",
    "海洋酸化：气温升高也会导致海洋酸化，这对海洋生物，特别是珊瑚礁和贝壳生物构成重大威胁。\n",
    "\n",
    "全球气候模式的破坏：如此剧烈的温度变化可能会导致气候模式发生不可预测的变化，可能会扰乱季风、天气周期和区域气候，从而产生深远的影响。"
   ]
  },
  {
   "cell_type": "code",
   "execution_count": null,
   "id": "baf866ba-02a9-40d1-ac33-e6651bcd3f28",
   "metadata": {},
   "outputs": [],
   "source": []
  }
 ],
 "metadata": {
  "kernelspec": {
   "display_name": "Python 3 (ipykernel)",
   "language": "python",
   "name": "python3"
  },
  "language_info": {
   "codemirror_mode": {
    "name": "ipython",
    "version": 3
   },
   "file_extension": ".py",
   "mimetype": "text/x-python",
   "name": "python",
   "nbconvert_exporter": "python",
   "pygments_lexer": "ipython3",
   "version": "3.11.5"
  },
  "papermill": {
   "default_parameters": {},
   "duration": 116.609811,
   "end_time": "2023-08-02T19:03:55.900739",
   "environment_variables": {},
   "exception": null,
   "input_path": "__notebook__.ipynb",
   "output_path": "__notebook__.ipynb",
   "parameters": {},
   "start_time": "2023-08-02T19:01:59.290928",
   "version": "2.4.0"
  }
 },
 "nbformat": 4,
 "nbformat_minor": 5
}
